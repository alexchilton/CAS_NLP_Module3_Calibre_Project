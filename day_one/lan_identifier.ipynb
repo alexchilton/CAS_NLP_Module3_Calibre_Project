{
 "cells": [
  {
   "cell_type": "markdown",
   "id": "741b45a3",
   "metadata": {
    "lines_to_next_cell": 1
   },
   "source": [
    "<b>Rule-based language identifier for EN,DE and FR. The identifier splits text into bigrams and trigrams of letters and compares the results to a stored list of bigrams and trigrams of each language from a training data</b>"
   ]
  },
  {
   "cell_type": "code",
   "id": "15e50f5a",
   "metadata": {
    "ExecuteTime": {
     "end_time": "2025-10-07T07:59:31.003100Z",
     "start_time": "2025-10-07T07:59:30.989113Z"
    }
   },
   "source": [
    "from collections import Counter\n",
    "import re"
   ],
   "outputs": [],
   "execution_count": 43
  },
  {
   "cell_type": "markdown",
   "id": "d3a69df2",
   "metadata": {},
   "source": [
    "<b>Helper function to extract n-gram from a given text</b>"
   ]
  },
  {
   "cell_type": "code",
   "id": "34beac34",
   "metadata": {
    "lines_to_next_cell": 1,
    "ExecuteTime": {
     "end_time": "2025-10-07T07:59:31.072521Z",
     "start_time": "2025-10-07T07:59:31.055688Z"
    }
   },
   "source": [
    "def extract_ngrams(text, n):\n",
    "    \"\"\"\n",
    "    Extract n-grams from a given text.\n",
    "\n",
    "    Parameters:\n",
    "    - text (str): The input text from which n-grams are to be extracted.\n",
    "    - n (int): The size of the n-grams.\n",
    "\n",
    "    Returns:\n",
    "    - list of str: A list containing the n-grams.\n",
    "    \"\"\"\n",
    "    return [text[i:i+n] for i in range(len(text) - n + 1)]"
   ],
   "outputs": [],
   "execution_count": 44
  },
  {
   "cell_type": "markdown",
   "id": "2766ba3f",
   "metadata": {},
   "source": [
    "<b>Function to get the top ngrams from a file. It get the top 100 by default. Try to adjust the number of n-grams (top 200 for example) and see if the accuray improves</b>"
   ]
  },
  {
   "cell_type": "code",
   "id": "6aa6455d",
   "metadata": {
    "lines_to_next_cell": 1,
    "ExecuteTime": {
     "end_time": "2025-10-07T07:59:31.168680Z",
     "start_time": "2025-10-07T07:59:31.161532Z"
    }
   },
   "source": [
    "def get_top_ngrams(filename, n, top=200):\n",
    "    \"\"\"\n",
    "    Extract the top n-grams from a text file.\n",
    "\n",
    "    Parameters:\n",
    "    - filename (str): The path to the input text file.\n",
    "    - n (int): The size of the n-grams.\n",
    "    - top (int, optional): The number of top n-grams to return. Defaults to 100.\n",
    "\n",
    "    Returns:\n",
    "    - list of str: A list containing the top n-grams.\n",
    "    \"\"\"\n",
    "    with open(filename, 'r', encoding='utf-8') as f:\n",
    "        text = f.read().lower()\n",
    "        text = re.sub(r'[^a-z]', '', text)  # remove non-alphabetic characters\n",
    "        ngrams = extract_ngrams(text, n)\n",
    "        return [item[0] for item in Counter(ngrams).most_common(top)]\n"
   ],
   "outputs": [],
   "execution_count": 45
  },
  {
   "cell_type": "markdown",
   "id": "de2d257f",
   "metadata": {},
   "source": [
    "<b>Function to take user input and a list of ngrams and calculate a score of matched ngrams in compared to the list of ngrams from a training corpus</b>"
   ]
  },
  {
   "cell_type": "code",
   "id": "d3d0eabd",
   "metadata": {
    "lines_to_next_cell": 1,
    "ExecuteTime": {
     "end_time": "2025-10-07T07:59:31.185790Z",
     "start_time": "2025-10-07T07:59:31.183476Z"
    }
   },
   "source": [
    "def calculate_score(sentence, ngrams_list, n):\n",
    "    sentence_ngrams = extract_ngrams(sentence, n)\n",
    "    return sum([1 for ng in sentence_ngrams if ng in ngrams_list])"
   ],
   "outputs": [],
   "execution_count": 46
  },
  {
   "cell_type": "markdown",
   "id": "c885b427",
   "metadata": {},
   "source": [
    "<b>Function to check the accuracy of the approach</b>"
   ]
  },
  {
   "cell_type": "code",
   "id": "05894317",
   "metadata": {
    "lines_to_next_cell": 1,
    "ExecuteTime": {
     "end_time": "2025-10-07T07:59:31.204538Z",
     "start_time": "2025-10-07T07:59:31.198492Z"
    }
   },
   "source": [
    "def test_accuracy(filename):\n",
    "    en_bigram = get_top_ngrams('english.txt', 2)\n",
    "    en_trigram = get_top_ngrams('english.txt', 3)\n",
    "    de_bigram = get_top_ngrams('german.txt', 2)\n",
    "    de_trigram = get_top_ngrams('german.txt', 3)\n",
    "    fr_bigram = get_top_ngrams('french.txt', 2)\n",
    "    fr_trigram = get_top_ngrams('french.txt', 3)\n",
    "    rm_bigram = get_top_ngrams('romanian.txt', 2)\n",
    "    rm_trigram = get_top_ngrams('romanian.txt', 3)\n",
    "    it_bigram = get_top_ngrams('italian.txt', 2)\n",
    "    it_trigram = get_top_ngrams('italian.txt', 3)\n",
    "\n",
    "    correct_predictions = 0\n",
    "    total_sentences = 0\n",
    "\n",
    "    with open(filename, 'r', encoding='latin-1') as f:  # Changed this line\n",
    "        for line in f:\n",
    "            sentence, actual_language = line.strip().rsplit(',', 1)\n",
    "            sentence = sentence.lower()\n",
    "            sentence = re.sub(r'[^a-z]', '', sentence)  # remove non-alphabetic characters\n",
    "\n",
    "            en_score = calculate_score(sentence, en_bigram, 2) + calculate_score(sentence, en_trigram, 3)\n",
    "            de_score = calculate_score(sentence, de_bigram, 2) + calculate_score(sentence, de_trigram, 3)\n",
    "            fr_score = calculate_score(sentence, fr_bigram, 2) + calculate_score(sentence, fr_trigram, 3)\n",
    "            it_score = calculate_score(sentence, it_bigram, 2) + calculate_score(sentence, it_trigram, 3)\n",
    "            rm_score = calculate_score(sentence, rm_bigram, 2) + calculate_score(sentence, rm_trigram, 3)\n",
    "            scores = {'en': en_score, 'de': de_score, 'fr': fr_score, 'it': it_score, 'rm': rm_score}\n",
    "            detected_language = max(scores, key=scores.get)\n",
    "\n",
    "            if detected_language == actual_language:\n",
    "                correct_predictions += 1\n",
    "            total_sentences += 1\n",
    "\n",
    "    accuracy = correct_predictions / total_sentences\n",
    "    print(f\"Accuracy: {accuracy:.2f}\")"
   ],
   "outputs": [],
   "execution_count": 47
  },
  {
   "cell_type": "code",
   "id": "33b4e76e",
   "metadata": {
    "lines_to_next_cell": 1,
    "ExecuteTime": {
     "end_time": "2025-10-07T07:59:31.219248Z",
     "start_time": "2025-10-07T07:59:31.215571Z"
    }
   },
   "source": [
    "def main():\n",
    "    test_accuracy('sentences.txt')\n",
    "    en_bigram = get_top_ngrams('english.txt', 2)\n",
    "    en_trigram = get_top_ngrams('english.txt', 3)\n",
    "    de_bigram = get_top_ngrams('german.txt', 2)\n",
    "    de_trigram = get_top_ngrams('german.txt', 3)\n",
    "    fr_bigram = get_top_ngrams('french.txt', 2)\n",
    "    fr_trigram = get_top_ngrams('french.txt', 3)\n",
    "    rm_bigram = get_top_ngrams('romanian.txt', 2)\n",
    "    rm_trigram = get_top_ngrams('romanian.txt', 3)\n",
    "    it_bigram = get_top_ngrams('italian.txt', 2)\n",
    "    it_trigram = get_top_ngrams('italian.txt', 3)\n",
    "\n",
    "    while True:\n",
    "        sentence = input(\"Enter a sentence (or 'exit' to quit): \").lower()\n",
    "        if sentence == 'exit':\n",
    "            break\n",
    "\n",
    "        sentence = re.sub(r'[^a-z]', '', sentence)  # remove non-alphabetic characters\n",
    "\n",
    "        en_score = calculate_score(sentence, en_bigram, 2) + calculate_score(sentence, en_trigram, 3)\n",
    "        de_score = calculate_score(sentence, de_bigram, 2) + calculate_score(sentence, de_trigram, 3)\n",
    "        fr_score = calculate_score(sentence, fr_bigram, 2) + calculate_score(sentence, fr_trigram, 3)\n",
    "        it_score = calculate_score(sentence, it_bigram, 2) + calculate_score(sentence, it_trigram, 3)\n",
    "        rm_score = calculate_score(sentence, rm_bigram, 2) + calculate_score(sentence, rm_trigram, 3)\n",
    "\n",
    "        scores = {'English': en_score, 'German': de_score, 'French': fr_score, 'italian': it_score, 'Romanian': rm_score}\n",
    "        detected_language = max(scores, key=scores.get)\n",
    "\n",
    "        print(f\"The detected language is: {detected_language}\")\n",
    "        print(scores)"
   ],
   "outputs": [],
   "execution_count": 48
  },
  {
   "cell_type": "code",
   "id": "a9c2202b",
   "metadata": {
    "ExecuteTime": {
     "end_time": "2025-10-07T08:00:11.203869Z",
     "start_time": "2025-10-07T07:59:31.264153Z"
    }
   },
   "source": [
    "if __name__ == \"__main__\":\n",
    "    main()"
   ],
   "outputs": [
    {
     "name": "stdout",
     "output_type": "stream",
     "text": [
      "Accuracy: 0.98\n",
      "The detected language is: Romanian\n",
      "{'English': 52, 'German': 52, 'French': 61, 'italian': 62, 'Romanian': 89}\n",
      "The detected language is: italian\n",
      "{'English': 53, 'German': 52, 'French': 57, 'italian': 80, 'Romanian': 54}\n",
      "The detected language is: English\n",
      "{'English': 58, 'German': 48, 'French': 42, 'italian': 43, 'Romanian': 38}\n",
      "The detected language is: German\n",
      "{'English': 55, 'German': 77, 'French': 54, 'italian': 55, 'Romanian': 46}\n",
      "The detected language is: French\n",
      "{'English': 50, 'German': 42, 'French': 62, 'italian': 58, 'Romanian': 56}\n"
     ]
    },
    {
     "ename": "KeyboardInterrupt",
     "evalue": "Interrupted by user",
     "output_type": "error",
     "traceback": [
      "\u001B[0;31m---------------------------------------------------------------------------\u001B[0m",
      "\u001B[0;31mKeyboardInterrupt\u001B[0m                         Traceback (most recent call last)",
      "Cell \u001B[0;32mIn[49], line 2\u001B[0m\n\u001B[1;32m      1\u001B[0m \u001B[38;5;28;01mif\u001B[39;00m \u001B[38;5;18m__name__\u001B[39m \u001B[38;5;241m==\u001B[39m \u001B[38;5;124m\"\u001B[39m\u001B[38;5;124m__main__\u001B[39m\u001B[38;5;124m\"\u001B[39m:\n\u001B[0;32m----> 2\u001B[0m     \u001B[43mmain\u001B[49m\u001B[43m(\u001B[49m\u001B[43m)\u001B[49m\n",
      "Cell \u001B[0;32mIn[48], line 15\u001B[0m, in \u001B[0;36mmain\u001B[0;34m()\u001B[0m\n\u001B[1;32m     12\u001B[0m it_trigram \u001B[38;5;241m=\u001B[39m get_top_ngrams(\u001B[38;5;124m'\u001B[39m\u001B[38;5;124mitalian.txt\u001B[39m\u001B[38;5;124m'\u001B[39m, \u001B[38;5;241m3\u001B[39m)\n\u001B[1;32m     14\u001B[0m \u001B[38;5;28;01mwhile\u001B[39;00m \u001B[38;5;28;01mTrue\u001B[39;00m:\n\u001B[0;32m---> 15\u001B[0m     sentence \u001B[38;5;241m=\u001B[39m \u001B[38;5;28;43minput\u001B[39;49m\u001B[43m(\u001B[49m\u001B[38;5;124;43m\"\u001B[39;49m\u001B[38;5;124;43mEnter a sentence (or \u001B[39;49m\u001B[38;5;124;43m'\u001B[39;49m\u001B[38;5;124;43mexit\u001B[39;49m\u001B[38;5;124;43m'\u001B[39;49m\u001B[38;5;124;43m to quit): \u001B[39;49m\u001B[38;5;124;43m\"\u001B[39;49m\u001B[43m)\u001B[49m\u001B[38;5;241m.\u001B[39mlower()\n\u001B[1;32m     16\u001B[0m     \u001B[38;5;28;01mif\u001B[39;00m sentence \u001B[38;5;241m==\u001B[39m \u001B[38;5;124m'\u001B[39m\u001B[38;5;124mexit\u001B[39m\u001B[38;5;124m'\u001B[39m:\n\u001B[1;32m     17\u001B[0m         \u001B[38;5;28;01mbreak\u001B[39;00m\n",
      "File \u001B[0;32m~/dataspell_test/untitled folder/lib/python3.12/site-packages/ipykernel/kernelbase.py:1282\u001B[0m, in \u001B[0;36mKernel.raw_input\u001B[0;34m(self, prompt)\u001B[0m\n\u001B[1;32m   1280\u001B[0m     msg \u001B[38;5;241m=\u001B[39m \u001B[38;5;124m\"\u001B[39m\u001B[38;5;124mraw_input was called, but this frontend does not support input requests.\u001B[39m\u001B[38;5;124m\"\u001B[39m\n\u001B[1;32m   1281\u001B[0m     \u001B[38;5;28;01mraise\u001B[39;00m StdinNotImplementedError(msg)\n\u001B[0;32m-> 1282\u001B[0m \u001B[38;5;28;01mreturn\u001B[39;00m \u001B[38;5;28;43mself\u001B[39;49m\u001B[38;5;241;43m.\u001B[39;49m\u001B[43m_input_request\u001B[49m\u001B[43m(\u001B[49m\n\u001B[1;32m   1283\u001B[0m \u001B[43m    \u001B[49m\u001B[38;5;28;43mstr\u001B[39;49m\u001B[43m(\u001B[49m\u001B[43mprompt\u001B[49m\u001B[43m)\u001B[49m\u001B[43m,\u001B[49m\n\u001B[1;32m   1284\u001B[0m \u001B[43m    \u001B[49m\u001B[38;5;28;43mself\u001B[39;49m\u001B[38;5;241;43m.\u001B[39;49m\u001B[43m_parent_ident\u001B[49m\u001B[43m[\u001B[49m\u001B[38;5;124;43m\"\u001B[39;49m\u001B[38;5;124;43mshell\u001B[39;49m\u001B[38;5;124;43m\"\u001B[39;49m\u001B[43m]\u001B[49m\u001B[43m,\u001B[49m\n\u001B[1;32m   1285\u001B[0m \u001B[43m    \u001B[49m\u001B[38;5;28;43mself\u001B[39;49m\u001B[38;5;241;43m.\u001B[39;49m\u001B[43mget_parent\u001B[49m\u001B[43m(\u001B[49m\u001B[38;5;124;43m\"\u001B[39;49m\u001B[38;5;124;43mshell\u001B[39;49m\u001B[38;5;124;43m\"\u001B[39;49m\u001B[43m)\u001B[49m\u001B[43m,\u001B[49m\n\u001B[1;32m   1286\u001B[0m \u001B[43m    \u001B[49m\u001B[43mpassword\u001B[49m\u001B[38;5;241;43m=\u001B[39;49m\u001B[38;5;28;43;01mFalse\u001B[39;49;00m\u001B[43m,\u001B[49m\n\u001B[1;32m   1287\u001B[0m \u001B[43m\u001B[49m\u001B[43m)\u001B[49m\n",
      "File \u001B[0;32m~/dataspell_test/untitled folder/lib/python3.12/site-packages/ipykernel/kernelbase.py:1325\u001B[0m, in \u001B[0;36mKernel._input_request\u001B[0;34m(self, prompt, ident, parent, password)\u001B[0m\n\u001B[1;32m   1322\u001B[0m \u001B[38;5;28;01mexcept\u001B[39;00m \u001B[38;5;167;01mKeyboardInterrupt\u001B[39;00m:\n\u001B[1;32m   1323\u001B[0m     \u001B[38;5;66;03m# re-raise KeyboardInterrupt, to truncate traceback\u001B[39;00m\n\u001B[1;32m   1324\u001B[0m     msg \u001B[38;5;241m=\u001B[39m \u001B[38;5;124m\"\u001B[39m\u001B[38;5;124mInterrupted by user\u001B[39m\u001B[38;5;124m\"\u001B[39m\n\u001B[0;32m-> 1325\u001B[0m     \u001B[38;5;28;01mraise\u001B[39;00m \u001B[38;5;167;01mKeyboardInterrupt\u001B[39;00m(msg) \u001B[38;5;28;01mfrom\u001B[39;00m \u001B[38;5;28;01mNone\u001B[39;00m\n\u001B[1;32m   1326\u001B[0m \u001B[38;5;28;01mexcept\u001B[39;00m \u001B[38;5;167;01mException\u001B[39;00m:\n\u001B[1;32m   1327\u001B[0m     \u001B[38;5;28mself\u001B[39m\u001B[38;5;241m.\u001B[39mlog\u001B[38;5;241m.\u001B[39mwarning(\u001B[38;5;124m\"\u001B[39m\u001B[38;5;124mInvalid Message:\u001B[39m\u001B[38;5;124m\"\u001B[39m, exc_info\u001B[38;5;241m=\u001B[39m\u001B[38;5;28;01mTrue\u001B[39;00m)\n",
      "\u001B[0;31mKeyboardInterrupt\u001B[0m: Interrupted by user"
     ]
    }
   ],
   "execution_count": 49
  },
  {
   "cell_type": "code",
   "execution_count": null,
   "id": "473d05ed",
   "metadata": {},
   "outputs": [],
   "source": []
  }
 ],
 "metadata": {
  "jupytext": {
   "cell_metadata_filter": "-all",
   "main_language": "python",
   "notebook_metadata_filter": "-all"
  },
  "kernelspec": {
   "display_name": "Python 3 (ipykernel)",
   "language": "python",
   "name": "python3"
  },
  "language_info": {
   "codemirror_mode": {
    "name": "ipython",
    "version": 3
   },
   "file_extension": ".py",
   "mimetype": "text/x-python",
   "name": "python",
   "nbconvert_exporter": "python",
   "pygments_lexer": "ipython3",
   "version": "3.10.11"
  }
 },
 "nbformat": 4,
 "nbformat_minor": 5
}
